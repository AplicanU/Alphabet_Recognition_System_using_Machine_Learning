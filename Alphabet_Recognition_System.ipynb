{
  "nbformat": 4,
  "nbformat_minor": 0,
  "metadata": {
    "colab": {
      "name": "Alphabet Recognition System.ipynb",
      "provenance": []
    },
    "kernelspec": {
      "name": "python3",
      "display_name": "Python 3"
    }
  },
  "cells": [
    {
      "cell_type": "markdown",
      "metadata": {
        "id": "HuH7pGOXFAcg"
      },
      "source": [
        "# **Part 1: Building Model & Calculating Accuracy**\r\n"
      ]
    },
    {
      "cell_type": "markdown",
      "metadata": {
        "id": "5OX_nwdYFTns"
      },
      "source": [
        "**1. Import Data**"
      ]
    },
    {
      "cell_type": "code",
      "metadata": {
        "colab": {
          "base_uri": "https://localhost:8080/"
        },
        "id": "6cUsmYqxE-GZ",
        "outputId": "dbb876c8-862e-464f-d288-4c90d1dbdae1"
      },
      "source": [
        "pip install python-mnist"
      ],
      "execution_count": 1,
      "outputs": [
        {
          "output_type": "stream",
          "text": [
            "Collecting python-mnist\n",
            "  Downloading https://files.pythonhosted.org/packages/64/f0/6086b84427c3bf156ec0b3c2f9dfc1d770b35f942b9ed8a64f5229776a80/python_mnist-0.7-py2.py3-none-any.whl\n",
            "Installing collected packages: python-mnist\n",
            "Successfully installed python-mnist-0.7\n"
          ],
          "name": "stdout"
        }
      ]
    },
    {
      "cell_type": "code",
      "metadata": {
        "id": "qB1TBJ_SFFEP"
      },
      "source": [
        "from mnist import MNIST"
      ],
      "execution_count": 2,
      "outputs": []
    },
    {
      "cell_type": "code",
      "metadata": {
        "id": "dp-LvdUBFRdp"
      },
      "source": [
        "data = MNIST(path='/content/drive/MyDrive/Projects/ARS/data', return_type='numpy')\r\n",
        "data.select_emnist('letters')\r\n",
        "X, y = data.load_training()"
      ],
      "execution_count": 11,
      "outputs": []
    },
    {
      "cell_type": "code",
      "metadata": {
        "colab": {
          "base_uri": "https://localhost:8080/"
        },
        "id": "yaNL0jDYHgC1",
        "outputId": "e0e90ba8-9652-4867-f075-fa643275622f"
      },
      "source": [
        "X.shape, y.shape"
      ],
      "execution_count": 12,
      "outputs": [
        {
          "output_type": "execute_result",
          "data": {
            "text/plain": [
              "((124800, 784), (124800,))"
            ]
          },
          "metadata": {
            "tags": []
          },
          "execution_count": 12
        }
      ]
    },
    {
      "cell_type": "code",
      "metadata": {
        "id": "EtR52McqHrZ1"
      },
      "source": [
        "X = X.reshape(124800, 28, 28)\r\n",
        "y = y.reshape(124800, 1)"
      ],
      "execution_count": 13,
      "outputs": []
    },
    {
      "cell_type": "code",
      "metadata": {
        "id": "0njNosP4IAfB"
      },
      "source": [
        "# list(y) -> y ranges from 1 to 26"
      ],
      "execution_count": 6,
      "outputs": []
    },
    {
      "cell_type": "code",
      "metadata": {
        "id": "ftOptVNWIE_l"
      },
      "source": [
        "y = y-1"
      ],
      "execution_count": 14,
      "outputs": []
    },
    {
      "cell_type": "code",
      "metadata": {
        "id": "KSw3IVchIeC7"
      },
      "source": [
        "# list(y) -> now y rangers from 0 to 25"
      ],
      "execution_count": null,
      "outputs": []
    },
    {
      "cell_type": "markdown",
      "metadata": {
        "id": "Dy-Jut3wJGZK"
      },
      "source": [
        "**2. Train - Test split**"
      ]
    },
    {
      "cell_type": "code",
      "metadata": {
        "id": "YeY8mQYhIfrZ"
      },
      "source": [
        "from sklearn.model_selection import train_test_split"
      ],
      "execution_count": 10,
      "outputs": []
    },
    {
      "cell_type": "code",
      "metadata": {
        "id": "_fK4641fJcL-"
      },
      "source": [
        "X_train, X_test, y_train, y_test = train_test_split(X, y, test_size = 0.2, random_state = 50)"
      ],
      "execution_count": 15,
      "outputs": []
    },
    {
      "cell_type": "code",
      "metadata": {
        "id": "u8Z71jNQ1P_F"
      },
      "source": [
        "# (0,255) --> (0,1)\r\n",
        "X_train = X_train.astype('float32')/255\r\n",
        "X_test = X_test.astype('float32')/255"
      ],
      "execution_count": 16,
      "outputs": []
    },
    {
      "cell_type": "code",
      "metadata": {
        "colab": {
          "base_uri": "https://localhost:8080/"
        },
        "id": "NDgNIIJK1hWU",
        "outputId": "60f115f9-5aec-4d4a-da15-b22500c962a7"
      },
      "source": [
        "y_train, y_test"
      ],
      "execution_count": 17,
      "outputs": [
        {
          "output_type": "execute_result",
          "data": {
            "text/plain": [
              "(array([[ 2],\n",
              "        [25],\n",
              "        [14],\n",
              "        ...,\n",
              "        [12],\n",
              "        [ 3],\n",
              "        [12]], dtype=uint8), array([[ 9],\n",
              "        [16],\n",
              "        [10],\n",
              "        ...,\n",
              "        [ 5],\n",
              "        [14],\n",
              "        [25]], dtype=uint8))"
            ]
          },
          "metadata": {
            "tags": []
          },
          "execution_count": 17
        }
      ]
    },
    {
      "cell_type": "code",
      "metadata": {
        "id": "fgKauVgE1oFI"
      },
      "source": [
        "# Converting integer into one hot vector (binary class matrix)\r\n",
        "from keras.utils import np_utils\r\n",
        "y_train = np_utils.to_categorical(y_train, num_classes = 26)\r\n",
        "y_test = np_utils.to_categorical(y_test, num_classes = 26)"
      ],
      "execution_count": 18,
      "outputs": []
    },
    {
      "cell_type": "code",
      "metadata": {
        "colab": {
          "base_uri": "https://localhost:8080/"
        },
        "id": "HWTJyJC72MaZ",
        "outputId": "fcd00f54-076f-4e73-e600-c1e817c931d6"
      },
      "source": [
        "y_train, y_test"
      ],
      "execution_count": 19,
      "outputs": [
        {
          "output_type": "execute_result",
          "data": {
            "text/plain": [
              "(array([[0., 0., 1., ..., 0., 0., 0.],\n",
              "        [0., 0., 0., ..., 0., 0., 1.],\n",
              "        [0., 0., 0., ..., 0., 0., 0.],\n",
              "        ...,\n",
              "        [0., 0., 0., ..., 0., 0., 0.],\n",
              "        [0., 0., 0., ..., 0., 0., 0.],\n",
              "        [0., 0., 0., ..., 0., 0., 0.]], dtype=float32),\n",
              " array([[0., 0., 0., ..., 0., 0., 0.],\n",
              "        [0., 0., 0., ..., 0., 0., 0.],\n",
              "        [0., 0., 0., ..., 0., 0., 0.],\n",
              "        ...,\n",
              "        [0., 0., 0., ..., 0., 0., 0.],\n",
              "        [0., 0., 0., ..., 0., 0., 0.],\n",
              "        [0., 0., 0., ..., 0., 0., 1.]], dtype=float32))"
            ]
          },
          "metadata": {
            "tags": []
          },
          "execution_count": 19
        }
      ]
    },
    {
      "cell_type": "markdown",
      "metadata": {
        "id": "cP9PPig32ZvD"
      },
      "source": [
        "**3. Defining the Model**"
      ]
    },
    {
      "cell_type": "code",
      "metadata": {
        "id": "Wr3q_cm22RBN"
      },
      "source": [
        "from keras.models import Sequential\r\n",
        "from keras.layers import Dense, Dropout, Flatten\r\n",
        "\r\n",
        "model = Sequential()\r\n",
        "model.add(Flatten(input_shape = (28,28)))\r\n",
        "model.add(Dense(512, activation='relu'))\r\n",
        "model.add(Dropout(0.2)) # preventing overfitting\r\n",
        "model.add(Dense(512, activation = 'relu'))\r\n",
        "model.add(Dropout(0.2))\r\n",
        "model.add(Dense(26, activation='softmax'))"
      ],
      "execution_count": 20,
      "outputs": []
    },
    {
      "cell_type": "code",
      "metadata": {
        "colab": {
          "base_uri": "https://localhost:8080/"
        },
        "id": "hEZ3yUiR3fMz",
        "outputId": "44625955-9e54-4560-b7d9-8ee56f7ba16a"
      },
      "source": [
        "model.summary()"
      ],
      "execution_count": 21,
      "outputs": [
        {
          "output_type": "stream",
          "text": [
            "Model: \"sequential\"\n",
            "_________________________________________________________________\n",
            "Layer (type)                 Output Shape              Param #   \n",
            "=================================================================\n",
            "flatten (Flatten)            (None, 784)               0         \n",
            "_________________________________________________________________\n",
            "dense (Dense)                (None, 512)               401920    \n",
            "_________________________________________________________________\n",
            "dropout (Dropout)            (None, 512)               0         \n",
            "_________________________________________________________________\n",
            "dense_1 (Dense)              (None, 512)               262656    \n",
            "_________________________________________________________________\n",
            "dropout_1 (Dropout)          (None, 512)               0         \n",
            "_________________________________________________________________\n",
            "dense_2 (Dense)              (None, 26)                13338     \n",
            "=================================================================\n",
            "Total params: 677,914\n",
            "Trainable params: 677,914\n",
            "Non-trainable params: 0\n",
            "_________________________________________________________________\n"
          ],
          "name": "stdout"
        }
      ]
    },
    {
      "cell_type": "code",
      "metadata": {
        "id": "4R5qBM1f3inE"
      },
      "source": [
        "model.compile(loss = 'categorical_crossentropy', optimizer = 'adam', metrics = ['accuracy'])"
      ],
      "execution_count": 22,
      "outputs": []
    },
    {
      "cell_type": "markdown",
      "metadata": {
        "id": "1a1zTdcW37q8"
      },
      "source": [
        "**4. Calcuating Accuracy**"
      ]
    },
    {
      "cell_type": "code",
      "metadata": {
        "colab": {
          "base_uri": "https://localhost:8080/"
        },
        "id": "bSdOMEld33lr",
        "outputId": "e47ceb67-c721-47f9-f0e5-6b28bc7f0163"
      },
      "source": [
        "# before training\r\n",
        "score = model.evaluate(X_test, y_test, verbose=1)\r\n",
        "accuracy = 100*score[1]\r\n",
        "print(\"Before training, test accuracy is\", accuracy)"
      ],
      "execution_count": 24,
      "outputs": [
        {
          "output_type": "stream",
          "text": [
            "780/780 [==============================] - 2s 3ms/step - loss: 3.2836 - accuracy: 0.0367\n",
            "Before training, test accuracy is 3.669871762394905\n"
          ],
          "name": "stdout"
        }
      ]
    },
    {
      "cell_type": "code",
      "metadata": {
        "colab": {
          "base_uri": "https://localhost:8080/"
        },
        "id": "tboeUbjQ4zJr",
        "outputId": "2353e571-1a3f-4112-b2b5-9a0e5e98127b"
      },
      "source": [
        "# training the model\r\n",
        "from keras.callbacks import ModelCheckpoint\r\n",
        "\r\n",
        "checkpointer = ModelCheckpoint(filepath = 'ars_model.h5', verbose=1, save_best_only = True)\r\n",
        "model.fit(X_train, y_train, batch_size = 128, epochs= 10, validation_split = 0.2, \r\n",
        "          callbacks=[checkpointer], verbose=1, shuffle=True)\r\n",
        "\r\n",
        "model.load_weights('ars_model.h5')"
      ],
      "execution_count": 25,
      "outputs": [
        {
          "output_type": "stream",
          "text": [
            "Epoch 1/10\n",
            "624/624 [==============================] - 11s 18ms/step - loss: 0.8064 - accuracy: 0.7554 - val_loss: 0.4255 - val_accuracy: 0.8660\n",
            "\n",
            "Epoch 00001: val_loss improved from inf to 0.42554, saving model to ars_model.h5\n",
            "Epoch 2/10\n",
            "624/624 [==============================] - 10s 17ms/step - loss: 0.4225 - accuracy: 0.8660 - val_loss: 0.3425 - val_accuracy: 0.8908\n",
            "\n",
            "Epoch 00002: val_loss improved from 0.42554 to 0.34251, saving model to ars_model.h5\n",
            "Epoch 3/10\n",
            "624/624 [==============================] - 11s 17ms/step - loss: 0.3408 - accuracy: 0.8884 - val_loss: 0.3109 - val_accuracy: 0.8995\n",
            "\n",
            "Epoch 00003: val_loss improved from 0.34251 to 0.31087, saving model to ars_model.h5\n",
            "Epoch 4/10\n",
            "624/624 [==============================] - 11s 17ms/step - loss: 0.2937 - accuracy: 0.9012 - val_loss: 0.2872 - val_accuracy: 0.9064\n",
            "\n",
            "Epoch 00004: val_loss improved from 0.31087 to 0.28716, saving model to ars_model.h5\n",
            "Epoch 5/10\n",
            "624/624 [==============================] - 11s 17ms/step - loss: 0.2651 - accuracy: 0.9096 - val_loss: 0.2838 - val_accuracy: 0.9092\n",
            "\n",
            "Epoch 00005: val_loss improved from 0.28716 to 0.28382, saving model to ars_model.h5\n",
            "Epoch 6/10\n",
            "624/624 [==============================] - 11s 17ms/step - loss: 0.2366 - accuracy: 0.9175 - val_loss: 0.2845 - val_accuracy: 0.9091\n",
            "\n",
            "Epoch 00006: val_loss did not improve from 0.28382\n",
            "Epoch 7/10\n",
            "624/624 [==============================] - 11s 18ms/step - loss: 0.2198 - accuracy: 0.9231 - val_loss: 0.2780 - val_accuracy: 0.9115\n",
            "\n",
            "Epoch 00007: val_loss improved from 0.28382 to 0.27795, saving model to ars_model.h5\n",
            "Epoch 8/10\n",
            "624/624 [==============================] - 11s 17ms/step - loss: 0.2077 - accuracy: 0.9261 - val_loss: 0.2777 - val_accuracy: 0.9139\n",
            "\n",
            "Epoch 00008: val_loss improved from 0.27795 to 0.27773, saving model to ars_model.h5\n",
            "Epoch 9/10\n",
            "624/624 [==============================] - 11s 17ms/step - loss: 0.1970 - accuracy: 0.9293 - val_loss: 0.2860 - val_accuracy: 0.9098\n",
            "\n",
            "Epoch 00009: val_loss did not improve from 0.27773\n",
            "Epoch 10/10\n",
            "624/624 [==============================] - 11s 17ms/step - loss: 0.1827 - accuracy: 0.9325 - val_loss: 0.2946 - val_accuracy: 0.9090\n",
            "\n",
            "Epoch 00010: val_loss did not improve from 0.27773\n"
          ],
          "name": "stdout"
        }
      ]
    },
    {
      "cell_type": "code",
      "metadata": {
        "id": "bmZndEjw641H"
      },
      "source": [
        "model.load_weights('ars_model.h5')"
      ],
      "execution_count": 27,
      "outputs": []
    },
    {
      "cell_type": "code",
      "metadata": {
        "colab": {
          "base_uri": "https://localhost:8080/"
        },
        "id": "Rl1MmDNJ6O6I",
        "outputId": "20e01095-8461-4f06-87f5-125dd472e73f"
      },
      "source": [
        "# after training\r\n",
        "score = model.evaluate(X_test, y_test, verbose=1)\r\n",
        "accuracy = 100*score[1]\r\n",
        "\r\n",
        "print(\"After training, Test accuracy is \", accuracy)"
      ],
      "execution_count": 28,
      "outputs": [
        {
          "output_type": "stream",
          "text": [
            "780/780 [==============================] - 3s 4ms/step - loss: 0.2790 - accuracy: 0.9116\n",
            "After training, Test accuracy is  91.15785360336304\n"
          ],
          "name": "stdout"
        }
      ]
    },
    {
      "cell_type": "markdown",
      "metadata": {
        "id": "9Hu79rEXvvFI"
      },
      "source": [
        "# **Part 2: Alphabet Recognition**"
      ]
    },
    {
      "cell_type": "code",
      "metadata": {
        "id": "Is1iP1Ct7AwR"
      },
      "source": [
        "from keras.models import load_model"
      ],
      "execution_count": 29,
      "outputs": []
    },
    {
      "cell_type": "code",
      "metadata": {
        "id": "VPrGDNKv-nHF"
      },
      "source": [
        "model = load_model('ars_model.h5')"
      ],
      "execution_count": 30,
      "outputs": []
    },
    {
      "cell_type": "code",
      "metadata": {
        "id": "hXRfbThp-suW"
      },
      "source": [
        "letters = {0:'a', 1:'b', 2:'c', 3:'d', 4:'e', 5:'f', 6:'g', 7:'h', 8:'i', 9:'j', 10:'k', 11:'l', \r\n",
        "          12:'m', 13:'n', 14:'o', 15:'p', 16:'q', 17:'r', 18:'s', 19:'t', 20:'u', 21:'v', 22:'w', \r\n",
        "          23:'x', 24:'y', 25:'z', 26:''}"
      ],
      "execution_count": 31,
      "outputs": []
    },
    {
      "cell_type": "code",
      "metadata": {
        "id": "yLjd8n1l-5A3"
      },
      "source": [
        "# defining pen color (blue) in hsv format\r\n",
        "\r\n",
        "import numpy as np\r\n",
        "\r\n",
        "blueLower = np.array([100, 60, 60])\r\n",
        "blueUpper = np.array([140, 25, 25])"
      ],
      "execution_count": 32,
      "outputs": []
    },
    {
      "cell_type": "code",
      "metadata": {
        "id": "fSnq2K_s_kiw"
      },
      "source": [
        "# Smoothning the image\r\n",
        "kernel = np.ones((5,5), np.uint8)"
      ],
      "execution_count": 33,
      "outputs": []
    },
    {
      "cell_type": "code",
      "metadata": {
        "id": "Tu1c8v8X_pQK"
      },
      "source": [
        "# defining blackboard\r\n",
        "blackboard = np.zeros((480,640, 3), dtype=np.uint8)\r\n",
        "alphabet = np.zeros((200,200,3), dtype=np.uint8)"
      ],
      "execution_count": 34,
      "outputs": []
    },
    {
      "cell_type": "code",
      "metadata": {
        "id": "2XCy5v_MALKf"
      },
      "source": [
        "# deques (Double ended queue) is used to store alphabet drawn on screen\r\n",
        "from collections import deque\r\n",
        "points = deque(maxlen = 512)"
      ],
      "execution_count": 35,
      "outputs": []
    },
    {
      "cell_type": "markdown",
      "metadata": {
        "id": "UwMtST1MA0VU"
      },
      "source": [
        "**Opening Camera to recognize alphabet**"
      ]
    },
    {
      "cell_type": "code",
      "metadata": {
        "colab": {
          "base_uri": "https://localhost:8080/",
          "height": 231
        },
        "id": "WmL4hwJGA8XC",
        "outputId": "82a2d829-296f-4da9-d860-23d9a605d9ab"
      },
      "source": [
        "import cv2\r\n",
        "\r\n",
        "cap = cv2.VideoCapture(0)\r\n",
        "\r\n",
        "while True:\r\n",
        "    ret, frame=cap.read()\r\n",
        "    \r\n",
        "\r\n",
        "    if cv2.waitKey(1) == 13: #if we press ENTER\r\n",
        "      break\r\n",
        "\r\n",
        "cap.release()\r\n",
        "cv2.destroyAllWindows()"
      ],
      "execution_count": 42,
      "outputs": [
        {
          "output_type": "error",
          "ename": "KeyboardInterrupt",
          "evalue": "ignored",
          "traceback": [
            "\u001b[0;31m---------------------------------------------------------------------------\u001b[0m",
            "\u001b[0;31mKeyboardInterrupt\u001b[0m                         Traceback (most recent call last)",
            "\u001b[0;32m<ipython-input-42-5e2787a692fa>\u001b[0m in \u001b[0;36m<module>\u001b[0;34m()\u001b[0m\n\u001b[1;32m      7\u001b[0m \u001b[0;34m\u001b[0m\u001b[0m\n\u001b[1;32m      8\u001b[0m \u001b[0;34m\u001b[0m\u001b[0m\n\u001b[0;32m----> 9\u001b[0;31m     \u001b[0;32mif\u001b[0m \u001b[0mcv2\u001b[0m\u001b[0;34m.\u001b[0m\u001b[0mwaitKey\u001b[0m\u001b[0;34m(\u001b[0m\u001b[0;36m1\u001b[0m\u001b[0;34m)\u001b[0m \u001b[0;34m==\u001b[0m \u001b[0;36m13\u001b[0m\u001b[0;34m:\u001b[0m \u001b[0;31m#if we press ENTER\u001b[0m\u001b[0;34m\u001b[0m\u001b[0;34m\u001b[0m\u001b[0m\n\u001b[0m\u001b[1;32m     10\u001b[0m       \u001b[0;32mbreak\u001b[0m\u001b[0;34m\u001b[0m\u001b[0;34m\u001b[0m\u001b[0m\n\u001b[1;32m     11\u001b[0m \u001b[0;34m\u001b[0m\u001b[0m\n",
            "\u001b[0;31mKeyboardInterrupt\u001b[0m: "
          ]
        }
      ]
    },
    {
      "cell_type": "code",
      "metadata": {
        "id": "syl2lUguBAML"
      },
      "source": [
        ""
      ],
      "execution_count": null,
      "outputs": []
    }
  ]
}